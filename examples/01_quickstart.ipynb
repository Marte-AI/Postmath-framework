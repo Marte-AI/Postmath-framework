{
 "cells": [
  {
   "cell_type": "markdown",
   "metadata": {},
   "source": [
    "# PostMath Framework - Quick Start Guide\n",
    "\n",
    "This notebook demonstrates the basic usage of the PostMath Framework for dual-mode semantic analysis.\n",
    "\n",
    "© 2025 Jesús Manuel Soledad Terrazas. All rights reserved."
   ]
  },
  {
   "cell_type": "markdown",
   "metadata": {},
   "source": [
    "## Installation\n",
    "\n",
    "First, install the PostMath framework:"
   ]
  },
  {
   "cell_type": "code",
   "execution_count": null,
   "metadata": {},
   "outputs": [],
   "source": [
    "# If running in Colab\n",
    "# !git clone https://github.com/Marte-AI/Postmath-framework.git\n",
    "# %cd Postmath-framework\n",
    "# !pip install -e ."
   ]
  },
  {
   "cell_type": "markdown",
   "metadata": {},
   "source": [
    "## Basic Usage"
   ]
  },
  {
   "cell_type": "code",
   "execution_count": null,
   "metadata": {},
   "outputs": [],
   "source": [
    "from postmath.translator import PracticalTranslator\n",
    "\n",
    "# Initialize the translator\n",
    "translator = PracticalTranslator()\n",
    "\n",
    "# Analyze some text\n",
    "text = \"Consciousness emerges from complex neural interactions\"\n",
    "result = translator.translate_text(text, mode=\"dual\")\n",
    "\n",
    "# Display results\n",
    "print(f\"Text: {text}\")\n",
    "print(f\"\\nNonlinear Analysis:\")\n",
    "print(f\"  Uncertainty Level: {result['nonlinear_analysis']['uncertainty_level']:.3f}\")\n",
    "print(f\"  Cascade Potential: {result['nonlinear_analysis']['cascade_potential']:.3f}\")\n",
    "print(f\"  Creativity Factor: {result['nonlinear_analysis']['creativity_factor']:.3f}\")\n",
    "print(f\"  Emergence Likelihood: {result['nonlinear_analysis']['emergence_likelihood']:.3f}\")"
   ]
  },
  {
   "cell_type": "markdown",
   "metadata": {},
   "source": [
    "## Domain-Specific Analysis\n",
    "\n",
    "PostMath can analyze text across different domains:"
   ]
  },
  {
   "cell_type": "code",
   "execution_count": null,
   "metadata": {},
   "outputs": [],
   "source": [
    "# Test different domains\n",
    "test_texts = {\n",
    "    \"technical\": \"Algorithms process data to generate insights\",\n",
    "    \"creative\": \"Imagination sparks innovation through creative exploration\",\n",
    "    \"philosophical\": \"The meaning of existence transcends physical reality\",\n",
    "    \"scientific\": \"Energy transforms matter through quantum field interactions\"\n",
    "}\n",
    "\n",
    "for domain, text in test_texts.items():\n",
    "    result = translator.translate_text(text, mode=\"dual\")\n",
    "    print(f\"\\n{domain.upper()} - '{text}'\")\n",
    "    print(f\"  Detected Domain: {result['linear_analysis']['domain']}\")\n",
    "    print(f\"  Uncertainty: {result['nonlinear_analysis']['uncertainty_level']:.3f}\")\n",
    "    print(f\"  Cascade Potential: {result['nonlinear_analysis']['cascade_potential']:.3f}\")\n",
    "    print(f\"  Reality Grounding: {result['nonlinear_analysis']['reality_grounding']:.3f}\")"
   ]
  },
  {
   "cell_type": "markdown",
   "metadata": {},
   "source": [
    "## Understanding Practical Insights\n",
    "\n",
    "PostMath provides actionable insights for AI system improvement:"
   ]
  },
  {
   "cell_type": "code",
   "execution_count": null,
   "metadata": {},
   "outputs": [],
   "source": [
    "# Analyze a complex philosophical text\n",
    "complex_text = \"The mysterious void of consciousness contains infinite creative possibilities\"\n",
    "result = translator.translate_text(complex_text, mode=\"dual\")\n",
    "\n",
    "print(f\"Text: '{complex_text}'\")\n",
    "print(f\"\\nPractical Insights:\")\n",
    "for i, insight in enumerate(result['practical_insights'], 1):\n",
    "    print(f\"{i}. {insight}\")\n",
    "\n",
    "# Show synthesis\n",
    "synthesis = result['synthesis']\n",
    "print(f\"\\nSynthesis Scores:\")\n",
    "print(f\"  Novelty Potential: {synthesis['novelty_potential']:.3f}\")\n",
    "print(f\"  Practical Utility: {synthesis['practical_utility']:.3f}\")\n",
    "print(f\"  Exploration Value: {synthesis['exploration_value']:.3f}\")"
   ]
  },
  {
   "cell_type": "markdown",
   "metadata": {},
   "source": [
    "## Comparing Processing Modes\n",
    "\n",
    "See the difference between linear, nonlinear, and dual-mode processing:"
   ]
  },
  {
   "cell_type": "code",
   "execution_count": null,
   "metadata": {},
   "outputs": [],
   "source": [
    "test_text = \"Love creates deep connections between people through shared experiences\"\n",
    "\n",
    "# Linear mode only\n",
    "linear_result = translator.translate_text(test_text, mode=\"linear\")\n",
    "print(\"LINEAR MODE:\")\n",
    "print(f\"  Domain: {linear_result['result']['domain']}\")\n",
    "print(f\"  Complexity: {linear_result['result']['complexity']:.3f}\")\n",
    "print(f\"  Interpretation: {linear_result['interpretation']['summary']}\")\n",
    "\n",
    "# Nonlinear mode only  \n",
    "nonlinear_result = translator.translate_text(test_text, mode=\"nonlinear\")\n",
    "print(\"\\nNONLINEAR MODE:\")\n",
    "print(f\"  Uncertainty: {nonlinear_result['result']['uncertainty_level']:.3f}\")\n",
    "print(f\"  Creativity: {nonlinear_result['result']['creativity_factor']:.3f}\")\n",
    "print(f\"  Insight: {nonlinear_result['interpretation']['insight']}\")\n",
    "\n",
    "# Dual mode (best of both)\n",
    "dual_result = translator.translate_text(test_text, mode=\"dual\")\n",
    "print(\"\\nDUAL MODE:\")\n",
    "print(f\"  Understanding Confidence: {dual_result['synthesis']['interpretation_confidence']:.3f}\")\n",
    "print(f\"  Overall Complexity: {dual_result['synthesis']['overall_complexity']:.3f}\")\n",
    "print(f\"  Detected: {len(dual_result['cascade_potential'])} cascade triggers\")"
   ]
  },
  {
   "cell_type": "markdown",
   "metadata": {},
   "source": [
    "## Quality Evaluation\n",
    "\n",
    "Evaluate how well PostMath understands specific concepts:"
   ]
  },
  {
   "cell_type": "code",
   "execution_count": null,
   "metadata": {},
   "outputs": [],
   "source": [
    "# Evaluate understanding with expected concepts\n",
    "eval_text = \"Machine learning algorithms discover patterns in complex data\"\n",
    "expected_concepts = ['machine', 'learning', 'algorithms', 'patterns', 'data']\n",
    "\n",
    "quality = translator.evaluate_translation_quality(\n",
    "    eval_text, \n",
    "    expected_concepts=expected_concepts\n",
    ")\n",
    "\n",
    "print(f\"Text: '{eval_text}'\")\n",
    "print(f\"\\nUnderstanding Quality:\")\n",
    "print(f\"  Overall Score: {quality['overall_score']:.3f}\")\n",
    "print(f\"  Concept Coverage: {quality['understanding_quality']['concept_coverage']:.3f}\")\n",
    "print(f\"  Semantic Density: {quality['understanding_quality']['semantic_density']:.3f}\")\n",
    "\n",
    "if quality['recommendations']:\n",
    "    print(f\"\\nRecommendations for improvement:\")\n",
    "    for rec in quality['recommendations']:\n",
    "        print(f\"  • {rec}\")"
   ]
  },
  {
   "cell_type": "markdown",
   "metadata": {},
   "source": [
    "## Next Steps\n",
    "\n",
    "- Explore cascade dynamics in the [Cascade Analysis notebook](02_cascade_and_uncertainty.ipynb)\n",
    "- Read the [full documentation](https://github.com/Marte-AI/Postmath-framework)\n",
    "- Try the interactive CLI: `postmath-interactive`\n",
    "\n",
    "For questions or commercial licensing: jesussoledadt@gmail.com"
   ]
  }
 ],
 "metadata": {
  "kernelspec": {
   "display_name": "Python 3",
   "language": "python",
   "name": "python3"
  },
  "language_info": {
   "codemirror_mode": {
    "name": "ipython",
    "version": 3
   },
   "file_extension": ".py",
   "mimetype": "text/x-python",
   "name": "python",
   "nbconvert_exporter": "python",
   "pygments_lexer": "ipython3",
   "version": "3.9.0"
  }
 },
 "nbformat": 4,
 "nbformat_minor": 4
}